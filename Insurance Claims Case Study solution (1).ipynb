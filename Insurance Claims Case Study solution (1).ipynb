{
 "cells": [
  {
   "cell_type": "code",
   "execution_count": 92,
   "id": "f73cfd4d-3c87-46a3-9daf-75357a656000",
   "metadata": {},
   "outputs": [],
   "source": [
    "## EDA and Hypothesis Testing for Insurance Claims Data "
   ]
  },
  {
   "cell_type": "code",
   "execution_count": 3,
   "id": "9a98227c-c0f6-481b-97d4-540eae941d0a",
   "metadata": {},
   "outputs": [
    {
     "name": "stdout",
     "output_type": "stream",
     "text": [
      "Requirement already satisfied: nbconvert[webpdf] in c:\\users\\lenovo\\anaconda3\\lib\\site-packages (7.10.0)\n",
      "Requirement already satisfied: beautifulsoup4 in c:\\users\\lenovo\\anaconda3\\lib\\site-packages (from nbconvert[webpdf]) (4.12.3)\n",
      "Requirement already satisfied: bleach!=5.0.0 in c:\\users\\lenovo\\anaconda3\\lib\\site-packages (from nbconvert[webpdf]) (4.1.0)\n",
      "Requirement already satisfied: defusedxml in c:\\users\\lenovo\\anaconda3\\lib\\site-packages (from nbconvert[webpdf]) (0.7.1)\n",
      "Requirement already satisfied: jinja2>=3.0 in c:\\users\\lenovo\\anaconda3\\lib\\site-packages (from nbconvert[webpdf]) (3.1.4)\n",
      "Requirement already satisfied: jupyter-core>=4.7 in c:\\users\\lenovo\\anaconda3\\lib\\site-packages (from nbconvert[webpdf]) (5.7.2)\n",
      "Requirement already satisfied: jupyterlab-pygments in c:\\users\\lenovo\\anaconda3\\lib\\site-packages (from nbconvert[webpdf]) (0.1.2)\n",
      "Requirement already satisfied: markupsafe>=2.0 in c:\\users\\lenovo\\anaconda3\\lib\\site-packages (from nbconvert[webpdf]) (2.1.3)\n",
      "Requirement already satisfied: mistune<4,>=2.0.3 in c:\\users\\lenovo\\anaconda3\\lib\\site-packages (from nbconvert[webpdf]) (2.0.4)\n",
      "Requirement already satisfied: nbclient>=0.5.0 in c:\\users\\lenovo\\anaconda3\\lib\\site-packages (from nbconvert[webpdf]) (0.8.0)\n",
      "Requirement already satisfied: nbformat>=5.7 in c:\\users\\lenovo\\anaconda3\\lib\\site-packages (from nbconvert[webpdf]) (5.9.2)\n",
      "Requirement already satisfied: packaging in c:\\users\\lenovo\\anaconda3\\lib\\site-packages (from nbconvert[webpdf]) (23.2)\n",
      "Requirement already satisfied: pandocfilters>=1.4.1 in c:\\users\\lenovo\\anaconda3\\lib\\site-packages (from nbconvert[webpdf]) (1.5.0)\n",
      "Requirement already satisfied: pygments>=2.4.1 in c:\\users\\lenovo\\anaconda3\\lib\\site-packages (from nbconvert[webpdf]) (2.15.1)\n",
      "Requirement already satisfied: tinycss2 in c:\\users\\lenovo\\anaconda3\\lib\\site-packages (from nbconvert[webpdf]) (1.2.1)\n",
      "Requirement already satisfied: traitlets>=5.1 in c:\\users\\lenovo\\anaconda3\\lib\\site-packages (from nbconvert[webpdf]) (5.14.3)\n",
      "Requirement already satisfied: playwright in c:\\users\\lenovo\\anaconda3\\lib\\site-packages (from nbconvert[webpdf]) (1.50.0)\n",
      "Requirement already satisfied: six>=1.9.0 in c:\\users\\lenovo\\anaconda3\\lib\\site-packages (from bleach!=5.0.0->nbconvert[webpdf]) (1.16.0)\n",
      "Requirement already satisfied: webencodings in c:\\users\\lenovo\\anaconda3\\lib\\site-packages (from bleach!=5.0.0->nbconvert[webpdf]) (0.5.1)\n",
      "Requirement already satisfied: platformdirs>=2.5 in c:\\users\\lenovo\\anaconda3\\lib\\site-packages (from jupyter-core>=4.7->nbconvert[webpdf]) (3.10.0)\n",
      "Requirement already satisfied: pywin32>=300 in c:\\users\\lenovo\\anaconda3\\lib\\site-packages (from jupyter-core>=4.7->nbconvert[webpdf]) (305.1)\n",
      "Requirement already satisfied: jupyter-client>=6.1.12 in c:\\users\\lenovo\\anaconda3\\lib\\site-packages (from nbclient>=0.5.0->nbconvert[webpdf]) (8.6.0)\n",
      "Requirement already satisfied: fastjsonschema in c:\\users\\lenovo\\anaconda3\\lib\\site-packages (from nbformat>=5.7->nbconvert[webpdf]) (2.16.2)\n",
      "Requirement already satisfied: jsonschema>=2.6 in c:\\users\\lenovo\\anaconda3\\lib\\site-packages (from nbformat>=5.7->nbconvert[webpdf]) (4.19.2)\n",
      "Requirement already satisfied: soupsieve>1.2 in c:\\users\\lenovo\\anaconda3\\lib\\site-packages (from beautifulsoup4->nbconvert[webpdf]) (2.5)\n",
      "Requirement already satisfied: pyee<13,>=12 in c:\\users\\lenovo\\anaconda3\\lib\\site-packages (from playwright->nbconvert[webpdf]) (12.1.1)\n",
      "Requirement already satisfied: greenlet<4.0.0,>=3.1.1 in c:\\users\\lenovo\\anaconda3\\lib\\site-packages (from playwright->nbconvert[webpdf]) (3.1.1)\n",
      "Requirement already satisfied: attrs>=22.2.0 in c:\\users\\lenovo\\anaconda3\\lib\\site-packages (from jsonschema>=2.6->nbformat>=5.7->nbconvert[webpdf]) (23.1.0)\n",
      "Requirement already satisfied: jsonschema-specifications>=2023.03.6 in c:\\users\\lenovo\\anaconda3\\lib\\site-packages (from jsonschema>=2.6->nbformat>=5.7->nbconvert[webpdf]) (2023.7.1)\n",
      "Requirement already satisfied: referencing>=0.28.4 in c:\\users\\lenovo\\anaconda3\\lib\\site-packages (from jsonschema>=2.6->nbformat>=5.7->nbconvert[webpdf]) (0.30.2)\n",
      "Requirement already satisfied: rpds-py>=0.7.1 in c:\\users\\lenovo\\anaconda3\\lib\\site-packages (from jsonschema>=2.6->nbformat>=5.7->nbconvert[webpdf]) (0.10.6)\n",
      "Requirement already satisfied: python-dateutil>=2.8.2 in c:\\users\\lenovo\\anaconda3\\lib\\site-packages (from jupyter-client>=6.1.12->nbclient>=0.5.0->nbconvert[webpdf]) (2.9.0.post0)\n",
      "Requirement already satisfied: pyzmq>=23.0 in c:\\users\\lenovo\\anaconda3\\lib\\site-packages (from jupyter-client>=6.1.12->nbclient>=0.5.0->nbconvert[webpdf]) (25.1.2)\n",
      "Requirement already satisfied: tornado>=6.2 in c:\\users\\lenovo\\anaconda3\\lib\\site-packages (from jupyter-client>=6.1.12->nbclient>=0.5.0->nbconvert[webpdf]) (6.4.1)\n",
      "Requirement already satisfied: typing-extensions in c:\\users\\lenovo\\anaconda3\\lib\\site-packages (from pyee<13,>=12->playwright->nbconvert[webpdf]) (4.11.0)\n",
      "Note: you may need to restart the kernel to use updated packages.\n"
     ]
    }
   ],
   "source": [
    "pip install nbconvert[webpdf]"
   ]
  },
  {
   "cell_type": "code",
   "execution_count": 93,
   "id": "7ca90e8e-07e9-4bdf-a310-b28e961358e8",
   "metadata": {},
   "outputs": [],
   "source": [
    "## importing the required librariers\n",
    "import os\n",
    "import pandas as  pd\n",
    "import numpy as np\n",
    "import seaborn as sns\n",
    "import matplotlib.pyplot as plt\n",
    "import warnings\n",
    "\n",
    "warnings.filterwarnings('ignore') "
   ]
  },
  {
   "cell_type": "code",
   "execution_count": 94,
   "id": "35a1a648-0d32-4b1e-a781-285cc0263b96",
   "metadata": {},
   "outputs": [],
   "source": [
    "## reading the dataset\n",
    "os.chdir('C:\\\\Users\\\\Lenovo\\\\Desktop\\\\COMPLETE FOLDER\\\\PYTHON FOLDER\\\\python casestudies left')\n",
    "claim_df=pd.read_csv('claims.csv')\n",
    "cust_df= pd.read_csv('cust_demographics.csv')"
   ]
  },
  {
   "cell_type": "code",
   "execution_count": 95,
   "id": "f5cc594f-a4bb-42ce-bd33-b3acff1fe90b",
   "metadata": {},
   "outputs": [
    {
     "data": {
      "text/html": [
       "<div>\n",
       "<style scoped>\n",
       "    .dataframe tbody tr th:only-of-type {\n",
       "        vertical-align: middle;\n",
       "    }\n",
       "\n",
       "    .dataframe tbody tr th {\n",
       "        vertical-align: top;\n",
       "    }\n",
       "\n",
       "    .dataframe thead th {\n",
       "        text-align: right;\n",
       "    }\n",
       "</style>\n",
       "<table border=\"1\" class=\"dataframe\">\n",
       "  <thead>\n",
       "    <tr style=\"text-align: right;\">\n",
       "      <th></th>\n",
       "      <th>claim_id</th>\n",
       "      <th>customer_id</th>\n",
       "      <th>incident_cause</th>\n",
       "      <th>claim_date</th>\n",
       "      <th>claim_area</th>\n",
       "      <th>police_report</th>\n",
       "      <th>claim_type</th>\n",
       "      <th>claim_amount</th>\n",
       "      <th>total_policy_claims</th>\n",
       "      <th>fraudulent</th>\n",
       "    </tr>\n",
       "  </thead>\n",
       "  <tbody>\n",
       "    <tr>\n",
       "      <th>0</th>\n",
       "      <td>54004764</td>\n",
       "      <td>21868593</td>\n",
       "      <td>Driver error</td>\n",
       "      <td>11/27/2017</td>\n",
       "      <td>Auto</td>\n",
       "      <td>No</td>\n",
       "      <td>Material only</td>\n",
       "      <td>$2980</td>\n",
       "      <td>1.0</td>\n",
       "      <td>No</td>\n",
       "    </tr>\n",
       "  </tbody>\n",
       "</table>\n",
       "</div>"
      ],
      "text/plain": [
       "   claim_id  customer_id incident_cause  claim_date claim_area police_report  \\\n",
       "0  54004764     21868593   Driver error  11/27/2017       Auto            No   \n",
       "\n",
       "      claim_type claim_amount  total_policy_claims fraudulent  \n",
       "0  Material only        $2980                  1.0         No  "
      ]
     },
     "execution_count": 95,
     "metadata": {},
     "output_type": "execute_result"
    }
   ],
   "source": [
    "claim_df.head(1)"
   ]
  },
  {
   "cell_type": "code",
   "execution_count": 96,
   "id": "7e9d51a1-da4e-43b8-9d81-b9992a4b197a",
   "metadata": {},
   "outputs": [
    {
     "data": {
      "text/html": [
       "<div>\n",
       "<style scoped>\n",
       "    .dataframe tbody tr th:only-of-type {\n",
       "        vertical-align: middle;\n",
       "    }\n",
       "\n",
       "    .dataframe tbody tr th {\n",
       "        vertical-align: top;\n",
       "    }\n",
       "\n",
       "    .dataframe thead th {\n",
       "        text-align: right;\n",
       "    }\n",
       "</style>\n",
       "<table border=\"1\" class=\"dataframe\">\n",
       "  <thead>\n",
       "    <tr style=\"text-align: right;\">\n",
       "      <th></th>\n",
       "      <th>CUST_ID</th>\n",
       "      <th>gender</th>\n",
       "      <th>DateOfBirth</th>\n",
       "      <th>State</th>\n",
       "      <th>Contact</th>\n",
       "      <th>Segment</th>\n",
       "    </tr>\n",
       "  </thead>\n",
       "  <tbody>\n",
       "    <tr>\n",
       "      <th>0</th>\n",
       "      <td>21868593</td>\n",
       "      <td>Female</td>\n",
       "      <td>12-Jan-79</td>\n",
       "      <td>VT</td>\n",
       "      <td>789-916-8172</td>\n",
       "      <td>Platinum</td>\n",
       "    </tr>\n",
       "  </tbody>\n",
       "</table>\n",
       "</div>"
      ],
      "text/plain": [
       "    CUST_ID  gender DateOfBirth State       Contact   Segment\n",
       "0  21868593  Female   12-Jan-79    VT  789-916-8172  Platinum"
      ]
     },
     "execution_count": 96,
     "metadata": {},
     "output_type": "execute_result"
    }
   ],
   "source": [
    "cust_df.head(1)"
   ]
  },
  {
   "cell_type": "code",
   "execution_count": 97,
   "id": "6609e3ef-8829-41ec-8140-41d683a6509a",
   "metadata": {},
   "outputs": [],
   "source": [
    "## merging/ joining the dataframes\n",
    "mergedf=pd.merge(left=cust_df,right=claim_df,how='inner',left_on='CUST_ID',right_on='customer_id')"
   ]
  },
  {
   "cell_type": "code",
   "execution_count": 98,
   "id": "1b332da5-c9a5-4e70-83c1-4845e234dde3",
   "metadata": {},
   "outputs": [
    {
     "data": {
      "text/html": [
       "<div>\n",
       "<style scoped>\n",
       "    .dataframe tbody tr th:only-of-type {\n",
       "        vertical-align: middle;\n",
       "    }\n",
       "\n",
       "    .dataframe tbody tr th {\n",
       "        vertical-align: top;\n",
       "    }\n",
       "\n",
       "    .dataframe thead th {\n",
       "        text-align: right;\n",
       "    }\n",
       "</style>\n",
       "<table border=\"1\" class=\"dataframe\">\n",
       "  <thead>\n",
       "    <tr style=\"text-align: right;\">\n",
       "      <th></th>\n",
       "      <th>CUST_ID</th>\n",
       "      <th>gender</th>\n",
       "      <th>DateOfBirth</th>\n",
       "      <th>State</th>\n",
       "      <th>Contact</th>\n",
       "      <th>Segment</th>\n",
       "      <th>claim_id</th>\n",
       "      <th>customer_id</th>\n",
       "      <th>incident_cause</th>\n",
       "      <th>claim_date</th>\n",
       "      <th>claim_area</th>\n",
       "      <th>police_report</th>\n",
       "      <th>claim_type</th>\n",
       "      <th>claim_amount</th>\n",
       "      <th>total_policy_claims</th>\n",
       "      <th>fraudulent</th>\n",
       "    </tr>\n",
       "  </thead>\n",
       "  <tbody>\n",
       "    <tr>\n",
       "      <th>0</th>\n",
       "      <td>21868593</td>\n",
       "      <td>Female</td>\n",
       "      <td>12-Jan-79</td>\n",
       "      <td>VT</td>\n",
       "      <td>789-916-8172</td>\n",
       "      <td>Platinum</td>\n",
       "      <td>54004764</td>\n",
       "      <td>21868593</td>\n",
       "      <td>Driver error</td>\n",
       "      <td>11/27/2017</td>\n",
       "      <td>Auto</td>\n",
       "      <td>No</td>\n",
       "      <td>Material only</td>\n",
       "      <td>$2980</td>\n",
       "      <td>1.0</td>\n",
       "      <td>No</td>\n",
       "    </tr>\n",
       "  </tbody>\n",
       "</table>\n",
       "</div>"
      ],
      "text/plain": [
       "    CUST_ID  gender DateOfBirth State       Contact   Segment  claim_id  \\\n",
       "0  21868593  Female   12-Jan-79    VT  789-916-8172  Platinum  54004764   \n",
       "\n",
       "   customer_id incident_cause  claim_date claim_area police_report  \\\n",
       "0     21868593   Driver error  11/27/2017       Auto            No   \n",
       "\n",
       "      claim_type claim_amount  total_policy_claims fraudulent  \n",
       "0  Material only        $2980                  1.0         No  "
      ]
     },
     "execution_count": 98,
     "metadata": {},
     "output_type": "execute_result"
    }
   ],
   "source": [
    "mergedf.head(1)"
   ]
  },
  {
   "cell_type": "code",
   "execution_count": 99,
   "id": "3431820e-eeeb-4631-9d30-790e73f18799",
   "metadata": {},
   "outputs": [
    {
     "data": {
      "text/plain": [
       "CUST_ID                  int64\n",
       "gender                  object\n",
       "DateOfBirth             object\n",
       "State                   object\n",
       "Contact                 object\n",
       "Segment                 object\n",
       "claim_id                 int64\n",
       "customer_id              int64\n",
       "incident_cause          object\n",
       "claim_date              object\n",
       "claim_area              object\n",
       "police_report           object\n",
       "claim_type              object\n",
       "claim_amount            object\n",
       "total_policy_claims    float64\n",
       "fraudulent              object\n",
       "dtype: object"
      ]
     },
     "execution_count": 99,
     "metadata": {},
     "output_type": "execute_result"
    }
   ],
   "source": [
    "# knowing the data types\n",
    "mergedf.dtypes"
   ]
  },
  {
   "cell_type": "code",
   "execution_count": 100,
   "id": "4a604133-98a3-49bb-9f54-02f43df2de92",
   "metadata": {},
   "outputs": [],
   "source": [
    "##mergedf['gender'] = mergedf['gender'].map({'Male': 1, 'Female': 0})"
   ]
  },
  {
   "cell_type": "code",
   "execution_count": 101,
   "id": "2ffae6fc-4b20-4785-b46d-34ae83cf271a",
   "metadata": {},
   "outputs": [
    {
     "data": {
      "text/plain": [
       "(1085, 16)"
      ]
     },
     "execution_count": 101,
     "metadata": {},
     "output_type": "execute_result"
    }
   ],
   "source": [
    "mergedf.shape"
   ]
  },
  {
   "cell_type": "code",
   "execution_count": 102,
   "id": "10299ac9-f628-4a9d-b13a-c7dfbc5d9bc7",
   "metadata": {},
   "outputs": [],
   "source": [
    "# formatting the datatypes\n",
    "mergedf['DateOfBirth']=pd.to_datetime(mergedf['DateOfBirth'],format='mixed')\n",
    "mergedf['claim_date']=pd.to_datetime(mergedf['claim_date'])"
   ]
  },
  {
   "cell_type": "code",
   "execution_count": 103,
   "id": "79e78441-5167-41fd-9b0f-21f29e68cb01",
   "metadata": {},
   "outputs": [],
   "source": [
    "# formatting the claim amount into the correct datatype\n",
    "mergedf['claim_amount']=mergedf['claim_amount'].str.replace('$','').astype('float')"
   ]
  },
  {
   "cell_type": "code",
   "execution_count": 104,
   "id": "d2ae87dd-4b23-48ec-a83d-757b08cf9152",
   "metadata": {},
   "outputs": [],
   "source": [
    "# dropping the column\n",
    "mergedf.drop(columns= ['customer_id'],inplace= True)"
   ]
  },
  {
   "cell_type": "code",
   "execution_count": 105,
   "id": "2d1ccf29-33ba-49ce-93d1-604ed2b6db07",
   "metadata": {},
   "outputs": [
    {
     "data": {
      "text/plain": [
       "7"
      ]
     },
     "execution_count": 105,
     "metadata": {},
     "output_type": "execute_result"
    }
   ],
   "source": [
    "# looking for duplicates\n",
    "mergedf.duplicated(subset='CUST_ID').sum()"
   ]
  },
  {
   "cell_type": "code",
   "execution_count": 106,
   "id": "3fbe1b46-bcdf-4738-b9d5-e241e790c199",
   "metadata": {},
   "outputs": [],
   "source": [
    "#dropping the duplicates\n",
    "mergedf.drop_duplicates(subset=['CUST_ID'], keep='first', inplace=True)"
   ]
  },
  {
   "cell_type": "code",
   "execution_count": 107,
   "id": "2bcbaac4-b3e0-492f-8b48-a452255d2c22",
   "metadata": {},
   "outputs": [],
   "source": [
    "mergedf = mergedf.sort_values(by='claim_date', ascending=False).drop_duplicates(subset='CUST_ID', keep='first')"
   ]
  },
  {
   "cell_type": "code",
   "execution_count": 108,
   "id": "35e3245e-95fb-4028-8a77-8857f42a4bb7",
   "metadata": {},
   "outputs": [],
   "source": [
    "# looking for missing values"
   ]
  },
  {
   "cell_type": "code",
   "execution_count": 109,
   "id": "c0d7f5ef-89ee-409e-9033-79edeb9703a8",
   "metadata": {},
   "outputs": [
    {
     "data": {
      "text/plain": [
       "CUST_ID                 0\n",
       "gender                  0\n",
       "DateOfBirth             0\n",
       "State                   0\n",
       "Contact                 0\n",
       "Segment                 0\n",
       "claim_id                0\n",
       "incident_cause          0\n",
       "claim_date              0\n",
       "claim_area              0\n",
       "police_report           0\n",
       "claim_type              0\n",
       "claim_amount           65\n",
       "total_policy_claims    10\n",
       "fraudulent              0\n",
       "dtype: int64"
      ]
     },
     "execution_count": 109,
     "metadata": {},
     "output_type": "execute_result"
    }
   ],
   "source": [
    "mergedf.isna().sum()"
   ]
  },
  {
   "cell_type": "code",
   "execution_count": 110,
   "id": "6f475c7f-5100-4928-8eb3-6f55bb1fe2b7",
   "metadata": {},
   "outputs": [],
   "source": [
    "# filling the missing values with the mean\n",
    "mergedf['claim_amount'].fillna(mergedf['claim_amount'].mean(),inplace=True)\n",
    "mergedf['total_policy_claims'].fillna(mergedf['total_policy_claims'].mean(),inplace=True)"
   ]
  },
  {
   "cell_type": "code",
   "execution_count": 111,
   "id": "d7e41cb5-7a7f-4030-87c5-9ec499832aaa",
   "metadata": {},
   "outputs": [],
   "source": [
    "#Calculate the age of customers in years. Based on the age, categorize the\n",
    "#customers according to the below criteria\n",
    "#Children < 18\n",
    "#Youth 18-30\n",
    "#Adult 30-60\n",
    "#Senior > 60\n"
   ]
  },
  {
   "cell_type": "code",
   "execution_count": 112,
   "id": "25ac6cad-1490-4b8e-8627-7d992c8785c2",
   "metadata": {},
   "outputs": [
    {
     "data": {
      "text/plain": [
       "941    1977-04-28\n",
       "226    2074-11-21\n",
       "286    2067-09-08\n",
       "751    1996-01-05\n",
       "1055   2068-04-22\n",
       "          ...    \n",
       "177    1985-11-16\n",
       "120    2065-01-10\n",
       "181    1994-07-24\n",
       "905    1993-08-13\n",
       "231    1999-08-05\n",
       "Name: DateOfBirth, Length: 1078, dtype: datetime64[ns]"
      ]
     },
     "execution_count": 112,
     "metadata": {},
     "output_type": "execute_result"
    }
   ],
   "source": [
    "mergedf['DateOfBirth']"
   ]
  },
  {
   "cell_type": "code",
   "execution_count": 113,
   "id": "4f8fa9ac-70c2-4b71-9bed-6a58f083f35c",
   "metadata": {},
   "outputs": [],
   "source": [
    "#calculated the age\n",
    "mergedf['Age']=mergedf['claim_date'].dt.year-mergedf['DateOfBirth'].dt.year"
   ]
  },
  {
   "cell_type": "code",
   "execution_count": 114,
   "id": "cfd9fd96-5cd3-42b3-a10e-21b50da67716",
   "metadata": {},
   "outputs": [
    {
     "data": {
      "text/html": [
       "<div>\n",
       "<style scoped>\n",
       "    .dataframe tbody tr th:only-of-type {\n",
       "        vertical-align: middle;\n",
       "    }\n",
       "\n",
       "    .dataframe tbody tr th {\n",
       "        vertical-align: top;\n",
       "    }\n",
       "\n",
       "    .dataframe thead th {\n",
       "        text-align: right;\n",
       "    }\n",
       "</style>\n",
       "<table border=\"1\" class=\"dataframe\">\n",
       "  <thead>\n",
       "    <tr style=\"text-align: right;\">\n",
       "      <th></th>\n",
       "      <th>CUST_ID</th>\n",
       "      <th>gender</th>\n",
       "      <th>DateOfBirth</th>\n",
       "      <th>State</th>\n",
       "      <th>Contact</th>\n",
       "      <th>Segment</th>\n",
       "      <th>claim_id</th>\n",
       "      <th>incident_cause</th>\n",
       "      <th>claim_date</th>\n",
       "      <th>claim_area</th>\n",
       "      <th>police_report</th>\n",
       "      <th>claim_type</th>\n",
       "      <th>claim_amount</th>\n",
       "      <th>total_policy_claims</th>\n",
       "      <th>fraudulent</th>\n",
       "      <th>Age</th>\n",
       "    </tr>\n",
       "  </thead>\n",
       "  <tbody>\n",
       "    <tr>\n",
       "      <th>941</th>\n",
       "      <td>46710738</td>\n",
       "      <td>Male</td>\n",
       "      <td>1977-04-28</td>\n",
       "      <td>MO</td>\n",
       "      <td>962-834-9361</td>\n",
       "      <td>Gold</td>\n",
       "      <td>74761374</td>\n",
       "      <td>Driver error</td>\n",
       "      <td>2018-10-30</td>\n",
       "      <td>Auto</td>\n",
       "      <td>No</td>\n",
       "      <td>Material only</td>\n",
       "      <td>1830.0</td>\n",
       "      <td>1.0</td>\n",
       "      <td>No</td>\n",
       "      <td>41</td>\n",
       "    </tr>\n",
       "  </tbody>\n",
       "</table>\n",
       "</div>"
      ],
      "text/plain": [
       "      CUST_ID gender DateOfBirth State       Contact Segment  claim_id  \\\n",
       "941  46710738   Male  1977-04-28    MO  962-834-9361    Gold  74761374   \n",
       "\n",
       "    incident_cause claim_date claim_area police_report     claim_type  \\\n",
       "941   Driver error 2018-10-30       Auto            No  Material only   \n",
       "\n",
       "     claim_amount  total_policy_claims fraudulent  Age  \n",
       "941        1830.0                  1.0         No   41  "
      ]
     },
     "execution_count": 114,
     "metadata": {},
     "output_type": "execute_result"
    }
   ],
   "source": [
    "mergedf.head(1)"
   ]
  },
  {
   "cell_type": "code",
   "execution_count": 115,
   "id": "33a2aa6b-c673-4353-b5e7-031cd29e79d8",
   "metadata": {},
   "outputs": [],
   "source": [
    "## What is the average amount claimed by the customers from various segments?"
   ]
  },
  {
   "cell_type": "code",
   "execution_count": 116,
   "id": "b3f78c2d-796a-4459-a49e-395836d338ee",
   "metadata": {},
   "outputs": [
    {
     "data": {
      "text/plain": [
       "Segment\n",
       "Gold        12756.479697\n",
       "Platinum    12369.304648\n",
       "Silver      12269.434851\n",
       "Name: claim_amount, dtype: float64"
      ]
     },
     "execution_count": 116,
     "metadata": {},
     "output_type": "execute_result"
    }
   ],
   "source": [
    "mergedf.groupby('Segment')['claim_amount'].mean()"
   ]
  },
  {
   "cell_type": "code",
   "execution_count": 117,
   "id": "975bf2e1-404c-4d2a-8233-cb7bbca68e19",
   "metadata": {},
   "outputs": [],
   "source": [
    "#What is the total claim amount based on incident cause for all the claims that have been done at least 20 days prior to 1st of October, 2018."
   ]
  },
  {
   "cell_type": "code",
   "execution_count": 118,
   "id": "a988fe46-799e-41cf-9608-24d2ffa00648",
   "metadata": {},
   "outputs": [
    {
     "data": {
      "text/plain": [
       "incident_cause\n",
       "Crime                 7.592525e+05\n",
       "Driver error          3.517208e+06\n",
       "Natural causes        1.384761e+06\n",
       "Other causes          4.222545e+06\n",
       "Other driver error    3.559431e+06\n",
       "Name: claim_amount, dtype: float64"
      ]
     },
     "execution_count": 118,
     "metadata": {},
     "output_type": "execute_result"
    }
   ],
   "source": [
    "mergedf.groupby('incident_cause')['claim_amount'].sum()"
   ]
  },
  {
   "cell_type": "code",
   "execution_count": 119,
   "id": "3faa28ba-6574-49ca-8762-b5bf432ae5d3",
   "metadata": {},
   "outputs": [
    {
     "data": {
      "text/html": [
       "<div>\n",
       "<style scoped>\n",
       "    .dataframe tbody tr th:only-of-type {\n",
       "        vertical-align: middle;\n",
       "    }\n",
       "\n",
       "    .dataframe tbody tr th {\n",
       "        vertical-align: top;\n",
       "    }\n",
       "\n",
       "    .dataframe thead th {\n",
       "        text-align: right;\n",
       "    }\n",
       "</style>\n",
       "<table border=\"1\" class=\"dataframe\">\n",
       "  <thead>\n",
       "    <tr style=\"text-align: right;\">\n",
       "      <th></th>\n",
       "      <th>CUST_ID</th>\n",
       "      <th>gender</th>\n",
       "      <th>DateOfBirth</th>\n",
       "      <th>State</th>\n",
       "      <th>Contact</th>\n",
       "      <th>Segment</th>\n",
       "      <th>claim_id</th>\n",
       "      <th>incident_cause</th>\n",
       "      <th>claim_date</th>\n",
       "      <th>claim_area</th>\n",
       "      <th>police_report</th>\n",
       "      <th>claim_type</th>\n",
       "      <th>claim_amount</th>\n",
       "      <th>total_policy_claims</th>\n",
       "      <th>fraudulent</th>\n",
       "      <th>Age</th>\n",
       "    </tr>\n",
       "  </thead>\n",
       "  <tbody>\n",
       "    <tr>\n",
       "      <th>1067</th>\n",
       "      <td>78064067</td>\n",
       "      <td>Female</td>\n",
       "      <td>1999-11-04</td>\n",
       "      <td>MS</td>\n",
       "      <td>713-457-9846</td>\n",
       "      <td>Gold</td>\n",
       "      <td>50845008</td>\n",
       "      <td>Natural causes</td>\n",
       "      <td>2018-09-06</td>\n",
       "      <td>Auto</td>\n",
       "      <td>No</td>\n",
       "      <td>Material only</td>\n",
       "      <td>1090.0</td>\n",
       "      <td>5.0</td>\n",
       "      <td>No</td>\n",
       "      <td>19</td>\n",
       "    </tr>\n",
       "    <tr>\n",
       "      <th>956</th>\n",
       "      <td>75884493</td>\n",
       "      <td>Female</td>\n",
       "      <td>2069-07-27</td>\n",
       "      <td>VT</td>\n",
       "      <td>196-435-7259</td>\n",
       "      <td>Gold</td>\n",
       "      <td>3110549</td>\n",
       "      <td>Other driver error</td>\n",
       "      <td>2018-09-06</td>\n",
       "      <td>Auto</td>\n",
       "      <td>Yes</td>\n",
       "      <td>Material and injury</td>\n",
       "      <td>35310.0</td>\n",
       "      <td>6.0</td>\n",
       "      <td>No</td>\n",
       "      <td>-51</td>\n",
       "    </tr>\n",
       "    <tr>\n",
       "      <th>482</th>\n",
       "      <td>80701300</td>\n",
       "      <td>Female</td>\n",
       "      <td>1994-07-28</td>\n",
       "      <td>MS</td>\n",
       "      <td>593-423-4839</td>\n",
       "      <td>Silver</td>\n",
       "      <td>15267466</td>\n",
       "      <td>Other causes</td>\n",
       "      <td>2018-09-06</td>\n",
       "      <td>Auto</td>\n",
       "      <td>Yes</td>\n",
       "      <td>Material only</td>\n",
       "      <td>1150.0</td>\n",
       "      <td>2.0</td>\n",
       "      <td>Yes</td>\n",
       "      <td>24</td>\n",
       "    </tr>\n",
       "    <tr>\n",
       "      <th>580</th>\n",
       "      <td>76339681</td>\n",
       "      <td>Female</td>\n",
       "      <td>1990-03-08</td>\n",
       "      <td>MI</td>\n",
       "      <td>843-529-3256</td>\n",
       "      <td>Platinum</td>\n",
       "      <td>70575561</td>\n",
       "      <td>Crime</td>\n",
       "      <td>2018-09-06</td>\n",
       "      <td>Home</td>\n",
       "      <td>Unknown</td>\n",
       "      <td>Material only</td>\n",
       "      <td>1910.0</td>\n",
       "      <td>1.0</td>\n",
       "      <td>No</td>\n",
       "      <td>28</td>\n",
       "    </tr>\n",
       "    <tr>\n",
       "      <th>542</th>\n",
       "      <td>9600820</td>\n",
       "      <td>Female</td>\n",
       "      <td>2062-02-19</td>\n",
       "      <td>MN</td>\n",
       "      <td>356-384-4378</td>\n",
       "      <td>Gold</td>\n",
       "      <td>41574198</td>\n",
       "      <td>Other causes</td>\n",
       "      <td>2018-09-06</td>\n",
       "      <td>Auto</td>\n",
       "      <td>Unknown</td>\n",
       "      <td>Injury only</td>\n",
       "      <td>29830.0</td>\n",
       "      <td>1.0</td>\n",
       "      <td>No</td>\n",
       "      <td>-44</td>\n",
       "    </tr>\n",
       "    <tr>\n",
       "      <th>...</th>\n",
       "      <td>...</td>\n",
       "      <td>...</td>\n",
       "      <td>...</td>\n",
       "      <td>...</td>\n",
       "      <td>...</td>\n",
       "      <td>...</td>\n",
       "      <td>...</td>\n",
       "      <td>...</td>\n",
       "      <td>...</td>\n",
       "      <td>...</td>\n",
       "      <td>...</td>\n",
       "      <td>...</td>\n",
       "      <td>...</td>\n",
       "      <td>...</td>\n",
       "      <td>...</td>\n",
       "      <td>...</td>\n",
       "    </tr>\n",
       "    <tr>\n",
       "      <th>177</th>\n",
       "      <td>74155265</td>\n",
       "      <td>Male</td>\n",
       "      <td>1985-11-16</td>\n",
       "      <td>TX</td>\n",
       "      <td>392-739-4873</td>\n",
       "      <td>Gold</td>\n",
       "      <td>25647821</td>\n",
       "      <td>Natural causes</td>\n",
       "      <td>2017-01-01</td>\n",
       "      <td>Auto</td>\n",
       "      <td>No</td>\n",
       "      <td>Material only</td>\n",
       "      <td>2080.0</td>\n",
       "      <td>1.0</td>\n",
       "      <td>No</td>\n",
       "      <td>32</td>\n",
       "    </tr>\n",
       "    <tr>\n",
       "      <th>120</th>\n",
       "      <td>39587790</td>\n",
       "      <td>Male</td>\n",
       "      <td>2065-01-10</td>\n",
       "      <td>LA</td>\n",
       "      <td>615-154-3516</td>\n",
       "      <td>Gold</td>\n",
       "      <td>39131766</td>\n",
       "      <td>Other causes</td>\n",
       "      <td>2017-01-01</td>\n",
       "      <td>Auto</td>\n",
       "      <td>No</td>\n",
       "      <td>Material only</td>\n",
       "      <td>2967.0</td>\n",
       "      <td>1.0</td>\n",
       "      <td>Yes</td>\n",
       "      <td>-48</td>\n",
       "    </tr>\n",
       "    <tr>\n",
       "      <th>181</th>\n",
       "      <td>61745840</td>\n",
       "      <td>Female</td>\n",
       "      <td>1994-07-24</td>\n",
       "      <td>MA</td>\n",
       "      <td>612-684-5472</td>\n",
       "      <td>Platinum</td>\n",
       "      <td>90591192</td>\n",
       "      <td>Other driver error</td>\n",
       "      <td>2017-01-01</td>\n",
       "      <td>Home</td>\n",
       "      <td>No</td>\n",
       "      <td>Material and injury</td>\n",
       "      <td>30930.0</td>\n",
       "      <td>1.0</td>\n",
       "      <td>No</td>\n",
       "      <td>23</td>\n",
       "    </tr>\n",
       "    <tr>\n",
       "      <th>905</th>\n",
       "      <td>42664554</td>\n",
       "      <td>Female</td>\n",
       "      <td>1993-08-13</td>\n",
       "      <td>TN</td>\n",
       "      <td>396-973-2531</td>\n",
       "      <td>Gold</td>\n",
       "      <td>42280334</td>\n",
       "      <td>Other causes</td>\n",
       "      <td>2017-01-01</td>\n",
       "      <td>Auto</td>\n",
       "      <td>No</td>\n",
       "      <td>Injury only</td>\n",
       "      <td>27670.0</td>\n",
       "      <td>1.0</td>\n",
       "      <td>No</td>\n",
       "      <td>24</td>\n",
       "    </tr>\n",
       "    <tr>\n",
       "      <th>231</th>\n",
       "      <td>77219712</td>\n",
       "      <td>Female</td>\n",
       "      <td>1999-08-05</td>\n",
       "      <td>NH</td>\n",
       "      <td>649-592-8793</td>\n",
       "      <td>Platinum</td>\n",
       "      <td>61374372</td>\n",
       "      <td>Other causes</td>\n",
       "      <td>2017-01-01</td>\n",
       "      <td>Auto</td>\n",
       "      <td>No</td>\n",
       "      <td>Material and injury</td>\n",
       "      <td>20200.0</td>\n",
       "      <td>1.0</td>\n",
       "      <td>No</td>\n",
       "      <td>18</td>\n",
       "    </tr>\n",
       "  </tbody>\n",
       "</table>\n",
       "<p>989 rows × 16 columns</p>\n",
       "</div>"
      ],
      "text/plain": [
       "       CUST_ID  gender DateOfBirth State       Contact   Segment  claim_id  \\\n",
       "1067  78064067  Female  1999-11-04    MS  713-457-9846      Gold  50845008   \n",
       "956   75884493  Female  2069-07-27    VT  196-435-7259      Gold   3110549   \n",
       "482   80701300  Female  1994-07-28    MS  593-423-4839    Silver  15267466   \n",
       "580   76339681  Female  1990-03-08    MI  843-529-3256  Platinum  70575561   \n",
       "542    9600820  Female  2062-02-19    MN  356-384-4378      Gold  41574198   \n",
       "...        ...     ...         ...   ...           ...       ...       ...   \n",
       "177   74155265    Male  1985-11-16    TX  392-739-4873      Gold  25647821   \n",
       "120   39587790    Male  2065-01-10    LA  615-154-3516      Gold  39131766   \n",
       "181   61745840  Female  1994-07-24    MA  612-684-5472  Platinum  90591192   \n",
       "905   42664554  Female  1993-08-13    TN  396-973-2531      Gold  42280334   \n",
       "231   77219712  Female  1999-08-05    NH  649-592-8793  Platinum  61374372   \n",
       "\n",
       "          incident_cause claim_date claim_area police_report  \\\n",
       "1067      Natural causes 2018-09-06       Auto            No   \n",
       "956   Other driver error 2018-09-06       Auto           Yes   \n",
       "482         Other causes 2018-09-06       Auto           Yes   \n",
       "580                Crime 2018-09-06       Home       Unknown   \n",
       "542         Other causes 2018-09-06       Auto       Unknown   \n",
       "...                  ...        ...        ...           ...   \n",
       "177       Natural causes 2017-01-01       Auto            No   \n",
       "120         Other causes 2017-01-01       Auto            No   \n",
       "181   Other driver error 2017-01-01       Home            No   \n",
       "905         Other causes 2017-01-01       Auto            No   \n",
       "231         Other causes 2017-01-01       Auto            No   \n",
       "\n",
       "               claim_type  claim_amount  total_policy_claims fraudulent  Age  \n",
       "1067        Material only        1090.0                  5.0         No   19  \n",
       "956   Material and injury       35310.0                  6.0         No  -51  \n",
       "482         Material only        1150.0                  2.0        Yes   24  \n",
       "580         Material only        1910.0                  1.0         No   28  \n",
       "542           Injury only       29830.0                  1.0         No  -44  \n",
       "...                   ...           ...                  ...        ...  ...  \n",
       "177         Material only        2080.0                  1.0         No   32  \n",
       "120         Material only        2967.0                  1.0        Yes  -48  \n",
       "181   Material and injury       30930.0                  1.0         No   23  \n",
       "905           Injury only       27670.0                  1.0         No   24  \n",
       "231   Material and injury       20200.0                  1.0         No   18  \n",
       "\n",
       "[989 rows x 16 columns]"
      ]
     },
     "execution_count": 119,
     "metadata": {},
     "output_type": "execute_result"
    }
   ],
   "source": [
    "cutoff_date = pd.to_datetime('2018-10-01') - pd.Timedelta(days=20)\n",
    "filtered_df = mergedf[mergedf['claim_date'] <= cutoff_date]\n",
    "filtered_df"
   ]
  },
  {
   "cell_type": "code",
   "execution_count": 120,
   "id": "89818a23-a14c-4761-ad45-12637e0a9135",
   "metadata": {},
   "outputs": [],
   "source": [
    "#10. How many adults from TX, DE and AK claimed insurance for driver\n",
    "#related issues and causes? "
   ]
  },
  {
   "cell_type": "code",
   "execution_count": 121,
   "id": "065e24a1-d6be-4fbd-9814-bb967b06844b",
   "metadata": {},
   "outputs": [
    {
     "data": {
      "text/html": [
       "<div>\n",
       "<style scoped>\n",
       "    .dataframe tbody tr th:only-of-type {\n",
       "        vertical-align: middle;\n",
       "    }\n",
       "\n",
       "    .dataframe tbody tr th {\n",
       "        vertical-align: top;\n",
       "    }\n",
       "\n",
       "    .dataframe thead th {\n",
       "        text-align: right;\n",
       "    }\n",
       "</style>\n",
       "<table border=\"1\" class=\"dataframe\">\n",
       "  <thead>\n",
       "    <tr style=\"text-align: right;\">\n",
       "      <th></th>\n",
       "      <th></th>\n",
       "      <th>CUST_ID</th>\n",
       "    </tr>\n",
       "    <tr>\n",
       "      <th>State</th>\n",
       "      <th>incident_cause</th>\n",
       "      <th></th>\n",
       "    </tr>\n",
       "  </thead>\n",
       "  <tbody>\n",
       "    <tr>\n",
       "      <th rowspan=\"4\" valign=\"top\">AK</th>\n",
       "      <th>Driver error</th>\n",
       "      <td>6</td>\n",
       "    </tr>\n",
       "    <tr>\n",
       "      <th>Natural causes</th>\n",
       "      <td>4</td>\n",
       "    </tr>\n",
       "    <tr>\n",
       "      <th>Other causes</th>\n",
       "      <td>5</td>\n",
       "    </tr>\n",
       "    <tr>\n",
       "      <th>Other driver error</th>\n",
       "      <td>4</td>\n",
       "    </tr>\n",
       "    <tr>\n",
       "      <th>AL</th>\n",
       "      <th>Crime</th>\n",
       "      <td>2</td>\n",
       "    </tr>\n",
       "    <tr>\n",
       "      <th>...</th>\n",
       "      <th>...</th>\n",
       "      <td>...</td>\n",
       "    </tr>\n",
       "    <tr>\n",
       "      <th rowspan=\"5\" valign=\"top\">WY</th>\n",
       "      <th>Crime</th>\n",
       "      <td>1</td>\n",
       "    </tr>\n",
       "    <tr>\n",
       "      <th>Driver error</th>\n",
       "      <td>6</td>\n",
       "    </tr>\n",
       "    <tr>\n",
       "      <th>Natural causes</th>\n",
       "      <td>3</td>\n",
       "    </tr>\n",
       "    <tr>\n",
       "      <th>Other causes</th>\n",
       "      <td>3</td>\n",
       "    </tr>\n",
       "    <tr>\n",
       "      <th>Other driver error</th>\n",
       "      <td>4</td>\n",
       "    </tr>\n",
       "  </tbody>\n",
       "</table>\n",
       "<p>242 rows × 1 columns</p>\n",
       "</div>"
      ],
      "text/plain": [
       "                          CUST_ID\n",
       "State incident_cause             \n",
       "AK    Driver error              6\n",
       "      Natural causes            4\n",
       "      Other causes              5\n",
       "      Other driver error        4\n",
       "AL    Crime                     2\n",
       "...                           ...\n",
       "WY    Crime                     1\n",
       "      Driver error              6\n",
       "      Natural causes            3\n",
       "      Other causes              3\n",
       "      Other driver error        4\n",
       "\n",
       "[242 rows x 1 columns]"
      ]
     },
     "execution_count": 121,
     "metadata": {},
     "output_type": "execute_result"
    }
   ],
   "source": [
    "mergedf.groupby(['State','incident_cause']).agg({'CUST_ID':'count'})"
   ]
  },
  {
   "cell_type": "code",
   "execution_count": 122,
   "id": "f7288c6b-e85a-4dc6-baa6-5034c58e538b",
   "metadata": {},
   "outputs": [
    {
     "data": {
      "text/html": [
       "<div>\n",
       "<style scoped>\n",
       "    .dataframe tbody tr th:only-of-type {\n",
       "        vertical-align: middle;\n",
       "    }\n",
       "\n",
       "    .dataframe tbody tr th {\n",
       "        vertical-align: top;\n",
       "    }\n",
       "\n",
       "    .dataframe thead th {\n",
       "        text-align: right;\n",
       "    }\n",
       "</style>\n",
       "<table border=\"1\" class=\"dataframe\">\n",
       "  <thead>\n",
       "    <tr style=\"text-align: right;\">\n",
       "      <th></th>\n",
       "      <th>CUST_ID</th>\n",
       "      <th>gender</th>\n",
       "      <th>DateOfBirth</th>\n",
       "      <th>State</th>\n",
       "      <th>Contact</th>\n",
       "      <th>Segment</th>\n",
       "      <th>claim_id</th>\n",
       "      <th>incident_cause</th>\n",
       "      <th>claim_date</th>\n",
       "      <th>claim_area</th>\n",
       "      <th>police_report</th>\n",
       "      <th>claim_type</th>\n",
       "      <th>claim_amount</th>\n",
       "      <th>total_policy_claims</th>\n",
       "      <th>fraudulent</th>\n",
       "      <th>Age</th>\n",
       "    </tr>\n",
       "  </thead>\n",
       "  <tbody>\n",
       "    <tr>\n",
       "      <th>941</th>\n",
       "      <td>46710738</td>\n",
       "      <td>Male</td>\n",
       "      <td>1977-04-28</td>\n",
       "      <td>MO</td>\n",
       "      <td>962-834-9361</td>\n",
       "      <td>Gold</td>\n",
       "      <td>74761374</td>\n",
       "      <td>Driver error</td>\n",
       "      <td>2018-10-30</td>\n",
       "      <td>Auto</td>\n",
       "      <td>No</td>\n",
       "      <td>Material only</td>\n",
       "      <td>1830.0</td>\n",
       "      <td>1.0</td>\n",
       "      <td>No</td>\n",
       "      <td>41</td>\n",
       "    </tr>\n",
       "    <tr>\n",
       "      <th>226</th>\n",
       "      <td>17682060</td>\n",
       "      <td>Female</td>\n",
       "      <td>2074-11-21</td>\n",
       "      <td>NV</td>\n",
       "      <td>186-195-3465</td>\n",
       "      <td>Gold</td>\n",
       "      <td>49735712</td>\n",
       "      <td>Crime</td>\n",
       "      <td>2018-10-30</td>\n",
       "      <td>Home</td>\n",
       "      <td>Unknown</td>\n",
       "      <td>Material and injury</td>\n",
       "      <td>17020.0</td>\n",
       "      <td>1.0</td>\n",
       "      <td>No</td>\n",
       "      <td>-56</td>\n",
       "    </tr>\n",
       "  </tbody>\n",
       "</table>\n",
       "</div>"
      ],
      "text/plain": [
       "      CUST_ID  gender DateOfBirth State       Contact Segment  claim_id  \\\n",
       "941  46710738    Male  1977-04-28    MO  962-834-9361    Gold  74761374   \n",
       "226  17682060  Female  2074-11-21    NV  186-195-3465    Gold  49735712   \n",
       "\n",
       "    incident_cause claim_date claim_area police_report           claim_type  \\\n",
       "941   Driver error 2018-10-30       Auto            No        Material only   \n",
       "226          Crime 2018-10-30       Home       Unknown  Material and injury   \n",
       "\n",
       "     claim_amount  total_policy_claims fraudulent  Age  \n",
       "941        1830.0                  1.0         No   41  \n",
       "226       17020.0                  1.0         No  -56  "
      ]
     },
     "execution_count": 122,
     "metadata": {},
     "output_type": "execute_result"
    }
   ],
   "source": [
    "mergedf.head(2)\n"
   ]
  },
  {
   "cell_type": "code",
   "execution_count": 123,
   "id": "81c3e7ac-1a91-416c-b391-d63d2ad278a2",
   "metadata": {},
   "outputs": [
    {
     "data": {
      "text/plain": [
       "gender\n",
       "Male      551\n",
       "Female    527\n",
       "Name: count, dtype: int64"
      ]
     },
     "execution_count": 123,
     "metadata": {},
     "output_type": "execute_result"
    }
   ],
   "source": [
    "mergedf['gender'].value_counts()"
   ]
  },
  {
   "cell_type": "code",
   "execution_count": 124,
   "id": "8cb98fbd-b18d-4730-b4a6-c4774dccd319",
   "metadata": {},
   "outputs": [
    {
     "data": {
      "text/plain": [
       "<seaborn.axisgrid.FacetGrid at 0x1f401397770>"
      ]
     },
     "execution_count": 124,
     "metadata": {},
     "output_type": "execute_result"
    },
    {
     "data": {
      "image/png": "[encoded data removed]",
      "text/plain": [
       "<Figure size 681.125x500 with 1 Axes>"
      ]
     },
     "metadata": {},
     "output_type": "display_data"
    }
   ],
   "source": [
    "sns.relplot(x='claim_amount',y='total_policy_claims',hue='claim_type',data=mergedf)"
   ]
  },
  {
   "cell_type": "code",
   "execution_count": 125,
   "id": "f2a1119e-cf08-47ca-8fe9-0fb84b197b22",
   "metadata": {},
   "outputs": [],
   "source": [
    "#11. Draw a pie chart between the aggregated value of claim amount based on gender and segment. Represent the claim amount as a percentage on\n",
    "#the pie chart.\n"
   ]
  },
  {
   "cell_type": "code",
   "execution_count": 126,
   "id": "c9020205-c423-4ca2-8894-31693f3923d4",
   "metadata": {},
   "outputs": [],
   "source": [
    "grouped_df=mergedf.groupby(by=['gender','Segment'])['claim_amount'].sum().reset_index()\n"
   ]
  },
  {
   "cell_type": "code",
   "execution_count": 127,
   "id": "3b41589a-b5f6-4e7b-83a9-1b2e5b318a0c",
   "metadata": {},
   "outputs": [],
   "source": [
    "labels = grouped_df['gender'].astype(str) + ' - ' + grouped_df['Segment'].astype(str)\n",
    "# Creating explode values to highlight the largest segment\n",
    "explode = [0.1 if value == grouped_df['claim_amount'].max() else 0 for value in grouped_df['claim_amount']]\n"
   ]
  },
  {
   "cell_type": "code",
   "execution_count": 128,
   "id": "4165ed25-599d-4889-86a1-a3447a13feac",
   "metadata": {},
   "outputs": [
    {
     "data": {
      "image/png": "[encoded data removed]",
      "text/plain": [
       "<Figure size 500x500 with 1 Axes>"
      ]
     },
     "metadata": {},
     "output_type": "display_data"
    }
   ],
   "source": [
    "plt.figure(figsize=(5,5))\n",
    "plt.pie(grouped_df['claim_amount'],labels=labels,autopct='%1.1f%%',explode=explode)\n",
    "plt.title('Claim amount distribution by gender and segment')\n",
    "plt.show()"
   ]
  },
  {
   "cell_type": "code",
   "execution_count": 129,
   "id": "22250597-6c97-4cf3-8f73-c044aefade40",
   "metadata": {},
   "outputs": [],
   "source": [
    "#12. Among males and females, which gender had claimed the most for anytype of driver related issues? E.g. This metric can be compared using a bar chart\n"
   ]
  },
  {
   "cell_type": "code",
   "execution_count": 130,
   "id": "b281d272-5c80-4e3c-810a-61025008a372",
   "metadata": {},
   "outputs": [
    {
     "data": {
      "text/html": [
       "<div>\n",
       "<style scoped>\n",
       "    .dataframe tbody tr th:only-of-type {\n",
       "        vertical-align: middle;\n",
       "    }\n",
       "\n",
       "    .dataframe tbody tr th {\n",
       "        vertical-align: top;\n",
       "    }\n",
       "\n",
       "    .dataframe thead th {\n",
       "        text-align: right;\n",
       "    }\n",
       "</style>\n",
       "<table border=\"1\" class=\"dataframe\">\n",
       "  <thead>\n",
       "    <tr style=\"text-align: right;\">\n",
       "      <th></th>\n",
       "      <th>CUST_ID</th>\n",
       "      <th>gender</th>\n",
       "      <th>DateOfBirth</th>\n",
       "      <th>State</th>\n",
       "      <th>Contact</th>\n",
       "      <th>Segment</th>\n",
       "      <th>claim_id</th>\n",
       "      <th>incident_cause</th>\n",
       "      <th>claim_date</th>\n",
       "      <th>claim_area</th>\n",
       "      <th>police_report</th>\n",
       "      <th>claim_type</th>\n",
       "      <th>claim_amount</th>\n",
       "      <th>total_policy_claims</th>\n",
       "      <th>fraudulent</th>\n",
       "      <th>Age</th>\n",
       "    </tr>\n",
       "  </thead>\n",
       "  <tbody>\n",
       "    <tr>\n",
       "      <th>322</th>\n",
       "      <td>77510822</td>\n",
       "      <td>Female</td>\n",
       "      <td>1986-03-18</td>\n",
       "      <td>AK</td>\n",
       "      <td>436-934-7156</td>\n",
       "      <td>Silver</td>\n",
       "      <td>87329176</td>\n",
       "      <td>Other driver error</td>\n",
       "      <td>2018-10-30</td>\n",
       "      <td>Auto</td>\n",
       "      <td>Unknown</td>\n",
       "      <td>Material only</td>\n",
       "      <td>12470.498519</td>\n",
       "      <td>2.0</td>\n",
       "      <td>No</td>\n",
       "      <td>32</td>\n",
       "    </tr>\n",
       "  </tbody>\n",
       "</table>\n",
       "</div>"
      ],
      "text/plain": [
       "      CUST_ID  gender DateOfBirth State       Contact Segment  claim_id  \\\n",
       "322  77510822  Female  1986-03-18    AK  436-934-7156  Silver  87329176   \n",
       "\n",
       "         incident_cause claim_date claim_area police_report     claim_type  \\\n",
       "322  Other driver error 2018-10-30       Auto       Unknown  Material only   \n",
       "\n",
       "     claim_amount  total_policy_claims fraudulent  Age  \n",
       "322  12470.498519                  2.0         No   32  "
      ]
     },
     "execution_count": 130,
     "metadata": {},
     "output_type": "execute_result"
    }
   ],
   "source": [
    "driver_claims=mergedf[mergedf['incident_cause'].str.contains('driver')]\n",
    "driver_claims.head(1)"
   ]
  },
  {
   "cell_type": "code",
   "execution_count": 131,
   "id": "02d3272b-c889-4048-ba5e-d3aa0417aff7",
   "metadata": {},
   "outputs": [
    {
     "data": {
      "image/png": "[encoded data removed]",
      "text/plain": [
       "<Figure size 800x500 with 1 Axes>"
      ]
     },
     "metadata": {},
     "output_type": "display_data"
    }
   ],
   "source": [
    "gender_claims=driver_claims['gender'].value_counts()\n",
    "\n",
    "## plotting the bar graph\n",
    "plt.figure(figsize=(8,5))\n",
    "gender_claims.plot(kind='bar',color=['green','pink'])\n",
    "plt.xlabel('Gender')\n",
    "plt.ylabel('Count')\n",
    "plt.title('Count of driver related issues')\n",
    "plt.show()\n",
    "\n",
    "## Hence, females had more driver related issues for which they had claimed for insurance."
   ]
  },
  {
   "cell_type": "code",
   "execution_count": 132,
   "id": "61c8980a-111f-4584-8bba-70da524c06d2",
   "metadata": {},
   "outputs": [],
   "source": [
    "#13. Which age group had the maximum fraudulent policy claims? Visualize it on a bar chart."
   ]
  },
  {
   "cell_type": "code",
   "execution_count": 133,
   "id": "16cc1327-8818-4152-8310-8119d0f09554",
   "metadata": {},
   "outputs": [
    {
     "data": {
      "text/plain": [
       "Text(0.5, 1.0, 'Boxplot of age without removing negative values')"
      ]
     },
     "execution_count": 133,
     "metadata": {},
     "output_type": "execute_result"
    },
    {
     "data": {
      "image/png": "[encoded data removed]",
      "text/plain": [
       "<Figure size 400x200 with 1 Axes>"
      ]
     },
     "metadata": {},
     "output_type": "display_data"
    }
   ],
   "source": [
    "plt.figure(figsize=(4,2))\n",
    "sns.boxplot(x=mergedf['Age'])\n",
    "plt.xlabel('Age')\n",
    "plt.title('Boxplot of age without removing negative values')"
   ]
  },
  {
   "cell_type": "code",
   "execution_count": 134,
   "id": "4f262485-6b36-4d82-8bab-ec6ab4bf0067",
   "metadata": {},
   "outputs": [
    {
     "data": {
      "image/png": "[encoded data removed]",
      "text/plain": [
       "<Figure size 400x200 with 1 Axes>"
      ]
     },
     "metadata": {},
     "output_type": "display_data"
    }
   ],
   "source": [
    "mergedf = mergedf[mergedf['Age'] >= 0]\n",
    "plt.figure(figsize=( 4,2))\n",
    "sns.boxplot(x=mergedf['Age'], color='skyblue')\n",
    "\n",
    "plt.xlabel(\"Age\")\n",
    "plt.title(\"Boxplot of Age Column (After Removing Negative Values)\")\n",
    "plt.show()"
   ]
  },
  {
   "cell_type": "code",
   "execution_count": 135,
   "id": "979416a3-0540-43ff-806c-eb59cfa8b73c",
   "metadata": {},
   "outputs": [
    {
     "data": {
      "text/html": [
       "<div>\n",
       "<style scoped>\n",
       "    .dataframe tbody tr th:only-of-type {\n",
       "        vertical-align: middle;\n",
       "    }\n",
       "\n",
       "    .dataframe tbody tr th {\n",
       "        vertical-align: top;\n",
       "    }\n",
       "\n",
       "    .dataframe thead th {\n",
       "        text-align: right;\n",
       "    }\n",
       "</style>\n",
       "<table border=\"1\" class=\"dataframe\">\n",
       "  <thead>\n",
       "    <tr style=\"text-align: right;\">\n",
       "      <th></th>\n",
       "      <th>CUST_ID</th>\n",
       "      <th>gender</th>\n",
       "      <th>DateOfBirth</th>\n",
       "      <th>State</th>\n",
       "      <th>Contact</th>\n",
       "      <th>Segment</th>\n",
       "      <th>claim_id</th>\n",
       "      <th>incident_cause</th>\n",
       "      <th>claim_date</th>\n",
       "      <th>claim_area</th>\n",
       "      <th>police_report</th>\n",
       "      <th>claim_type</th>\n",
       "      <th>claim_amount</th>\n",
       "      <th>total_policy_claims</th>\n",
       "      <th>fraudulent</th>\n",
       "      <th>Age</th>\n",
       "      <th>Agegroup</th>\n",
       "    </tr>\n",
       "  </thead>\n",
       "  <tbody>\n",
       "    <tr>\n",
       "      <th>941</th>\n",
       "      <td>46710738</td>\n",
       "      <td>Male</td>\n",
       "      <td>1977-04-28</td>\n",
       "      <td>MO</td>\n",
       "      <td>962-834-9361</td>\n",
       "      <td>Gold</td>\n",
       "      <td>74761374</td>\n",
       "      <td>Driver error</td>\n",
       "      <td>2018-10-30</td>\n",
       "      <td>Auto</td>\n",
       "      <td>No</td>\n",
       "      <td>Material only</td>\n",
       "      <td>1830.0</td>\n",
       "      <td>1.0</td>\n",
       "      <td>No</td>\n",
       "      <td>41</td>\n",
       "      <td>41-43</td>\n",
       "    </tr>\n",
       "  </tbody>\n",
       "</table>\n",
       "</div>"
      ],
      "text/plain": [
       "      CUST_ID gender DateOfBirth State       Contact Segment  claim_id  \\\n",
       "941  46710738   Male  1977-04-28    MO  962-834-9361    Gold  74761374   \n",
       "\n",
       "    incident_cause claim_date claim_area police_report     claim_type  \\\n",
       "941   Driver error 2018-10-30       Auto            No  Material only   \n",
       "\n",
       "     claim_amount  total_policy_claims fraudulent  Age Agegroup  \n",
       "941        1830.0                  1.0         No   41    41-43  "
      ]
     },
     "execution_count": 135,
     "metadata": {},
     "output_type": "execute_result"
    }
   ],
   "source": [
    "mergedf['Agegroup']=pd.cut(mergedf['Age'],bins = [18, 25, 30, 35, 40, 43],labels = [\"18-25\", \"26-30\", \"31-35\", \"36-40\", \"41-43\"])\n",
    "mergedf.head(1)"
   ]
  },
  {
   "cell_type": "code",
   "execution_count": 136,
   "id": "9f299c78-6bf5-40ea-a8f2-e3ac6e8976f4",
   "metadata": {},
   "outputs": [],
   "source": [
    "fraudulent_df= mergedf[mergedf['fraudulent']=='Yes']"
   ]
  },
  {
   "cell_type": "code",
   "execution_count": 137,
   "id": "47755cab-a05f-47fe-b89a-c44f00e2664d",
   "metadata": {},
   "outputs": [
    {
     "data": {
      "text/plain": [
       "Agegroup\n",
       "18-25    36\n",
       "26-30    32\n",
       "31-35    29\n",
       "36-40    29\n",
       "41-43    19\n",
       "Name: count, dtype: int64"
      ]
     },
     "execution_count": 137,
     "metadata": {},
     "output_type": "execute_result"
    }
   ],
   "source": [
    "fraud_count = fraudulent_df[\"Agegroup\"].value_counts().sort_index()\n",
    "fraud_count"
   ]
  },
  {
   "cell_type": "code",
   "execution_count": 138,
   "id": "49be0bb9-d7a0-4998-9335-78fde3579e92",
   "metadata": {},
   "outputs": [
    {
     "data": {
      "image/png": "[encoded data removed]",
      "text/plain": [
       "<Figure size 500x300 with 1 Axes>"
      ]
     },
     "metadata": {},
     "output_type": "display_data"
    }
   ],
   "source": [
    "plt.figure(figsize=(5,3))\n",
    "sns.barplot(x=fraud_count.index, y=fraud_count.values,color='orange')\n",
    "plt.ylabel= 'Number of claims'\n",
    "plt.title('Count of claims as per age group')\n",
    "plt.show()\n",
    "## Hence, age group of 18-25 had maximum fraudulent claims"
   ]
  },
  {
   "cell_type": "code",
   "execution_count": 139,
   "id": "1906700f-4ea4-48e5-b4d4-ca99754209c6",
   "metadata": {},
   "outputs": [],
   "source": [
    "#14. Visualize the monthly trend of the total amount that has been claimed by the customers. Ensure that on the “month” axis, the month is in a \n",
    "#chronological order not alphabetical order. "
   ]
  },
  {
   "cell_type": "code",
   "execution_count": 140,
   "id": "6c7862cd-2104-4671-a9a9-2f60c8e16599",
   "metadata": {},
   "outputs": [],
   "source": [
    "mergedf['Month_Num'] = mergedf['claim_date'].dt.month\n",
    "mergedf['Month_Name'] = mergedf['claim_date'].dt.strftime('%B')\n",
    "\n",
    "# Aggregate total claim amount by month\n",
    "monthly_claims = mergedf.groupby(['Month_Num', 'Month_Name'])['claim_amount'].sum().reset_index()\n",
    "monthly_claims = monthly_claims.sort_values('Month_Num')"
   ]
  },
  {
   "cell_type": "code",
   "execution_count": 141,
   "id": "89140396-5596-4af6-b7ff-598d1c627327",
   "metadata": {},
   "outputs": [
    {
     "data": {
      "image/png": "[encoded data removed]",
      "text/plain": [
       "<Figure size 600x300 with 1 Axes>"
      ]
     },
     "metadata": {},
     "output_type": "display_data"
    }
   ],
   "source": [
    "plt.figure(figsize=(6,3))\n",
    "sns.lineplot(x=monthly_claims['Month_Name'], y=monthly_claims['claim_amount'],marker='o',color='b')\n",
    "plt.title(\"Monthly Trend of Total Claimed Amount\")\n",
    "plt.xticks(rotation=45) \n",
    "plt.show()"
   ]
  },
  {
   "cell_type": "code",
   "execution_count": 142,
   "id": "5e9ef9d9-5411-4e81-a578-794c0b1c1e5c",
   "metadata": {},
   "outputs": [],
   "source": [
    "#15. What is the average claim amount for gender and age categories and suitably represent the above using a facetted bar chart, one facet that\n",
    "# represents fraudulent claims and the other for non-fraudulent claims.\n"
   ]
  },
  {
   "cell_type": "code",
   "execution_count": 143,
   "id": "2cae100b-d3f6-423c-8bb3-42b6f1641888",
   "metadata": {},
   "outputs": [
    {
     "data": {
      "text/plain": [
       "Index(['CUST_ID', 'gender', 'DateOfBirth', 'State', 'Contact', 'Segment',\n",
       "       'claim_id', 'incident_cause', 'claim_date', 'claim_area',\n",
       "       'police_report', 'claim_type', 'claim_amount', 'total_policy_claims',\n",
       "       'fraudulent', 'Age', 'Agegroup', 'Month_Num', 'Month_Name'],\n",
       "      dtype='object')"
      ]
     },
     "execution_count": 143,
     "metadata": {},
     "output_type": "execute_result"
    }
   ],
   "source": [
    "mergedf.columns"
   ]
  },
  {
   "cell_type": "code",
   "execution_count": 144,
   "id": "0fce7621-201c-4879-95c3-78f348e0c9ef",
   "metadata": {},
   "outputs": [
    {
     "data": {
      "text/html": [
       "<div>\n",
       "<style scoped>\n",
       "    .dataframe tbody tr th:only-of-type {\n",
       "        vertical-align: middle;\n",
       "    }\n",
       "\n",
       "    .dataframe tbody tr th {\n",
       "        vertical-align: top;\n",
       "    }\n",
       "\n",
       "    .dataframe thead th {\n",
       "        text-align: right;\n",
       "    }\n",
       "</style>\n",
       "<table border=\"1\" class=\"dataframe\">\n",
       "  <thead>\n",
       "    <tr style=\"text-align: right;\">\n",
       "      <th></th>\n",
       "      <th>gender</th>\n",
       "      <th>Agegroup</th>\n",
       "      <th>fraudulent</th>\n",
       "      <th>claim_amount</th>\n",
       "    </tr>\n",
       "  </thead>\n",
       "  <tbody>\n",
       "    <tr>\n",
       "      <th>0</th>\n",
       "      <td>Female</td>\n",
       "      <td>18-25</td>\n",
       "      <td>No</td>\n",
       "      <td>12776.934436</td>\n",
       "    </tr>\n",
       "    <tr>\n",
       "      <th>1</th>\n",
       "      <td>Female</td>\n",
       "      <td>18-25</td>\n",
       "      <td>Yes</td>\n",
       "      <td>9114.333051</td>\n",
       "    </tr>\n",
       "    <tr>\n",
       "      <th>2</th>\n",
       "      <td>Female</td>\n",
       "      <td>26-30</td>\n",
       "      <td>No</td>\n",
       "      <td>12011.836735</td>\n",
       "    </tr>\n",
       "    <tr>\n",
       "      <th>3</th>\n",
       "      <td>Female</td>\n",
       "      <td>26-30</td>\n",
       "      <td>Yes</td>\n",
       "      <td>5635.000000</td>\n",
       "    </tr>\n",
       "    <tr>\n",
       "      <th>4</th>\n",
       "      <td>Female</td>\n",
       "      <td>31-35</td>\n",
       "      <td>No</td>\n",
       "      <td>13256.688823</td>\n",
       "    </tr>\n",
       "    <tr>\n",
       "      <th>5</th>\n",
       "      <td>Female</td>\n",
       "      <td>31-35</td>\n",
       "      <td>Yes</td>\n",
       "      <td>14585.428254</td>\n",
       "    </tr>\n",
       "    <tr>\n",
       "      <th>6</th>\n",
       "      <td>Female</td>\n",
       "      <td>36-40</td>\n",
       "      <td>No</td>\n",
       "      <td>11643.548962</td>\n",
       "    </tr>\n",
       "    <tr>\n",
       "      <th>7</th>\n",
       "      <td>Female</td>\n",
       "      <td>36-40</td>\n",
       "      <td>Yes</td>\n",
       "      <td>16934.894659</td>\n",
       "    </tr>\n",
       "    <tr>\n",
       "      <th>8</th>\n",
       "      <td>Female</td>\n",
       "      <td>41-43</td>\n",
       "      <td>No</td>\n",
       "      <td>10102.380952</td>\n",
       "    </tr>\n",
       "    <tr>\n",
       "      <th>9</th>\n",
       "      <td>Female</td>\n",
       "      <td>41-43</td>\n",
       "      <td>Yes</td>\n",
       "      <td>19909.950000</td>\n",
       "    </tr>\n",
       "    <tr>\n",
       "      <th>10</th>\n",
       "      <td>Male</td>\n",
       "      <td>18-25</td>\n",
       "      <td>No</td>\n",
       "      <td>11406.621843</td>\n",
       "    </tr>\n",
       "    <tr>\n",
       "      <th>11</th>\n",
       "      <td>Male</td>\n",
       "      <td>18-25</td>\n",
       "      <td>Yes</td>\n",
       "      <td>6871.166568</td>\n",
       "    </tr>\n",
       "    <tr>\n",
       "      <th>12</th>\n",
       "      <td>Male</td>\n",
       "      <td>26-30</td>\n",
       "      <td>No</td>\n",
       "      <td>11997.343596</td>\n",
       "    </tr>\n",
       "    <tr>\n",
       "      <th>13</th>\n",
       "      <td>Male</td>\n",
       "      <td>26-30</td>\n",
       "      <td>Yes</td>\n",
       "      <td>14593.360947</td>\n",
       "    </tr>\n",
       "    <tr>\n",
       "      <th>14</th>\n",
       "      <td>Male</td>\n",
       "      <td>31-35</td>\n",
       "      <td>No</td>\n",
       "      <td>14618.981984</td>\n",
       "    </tr>\n",
       "    <tr>\n",
       "      <th>15</th>\n",
       "      <td>Male</td>\n",
       "      <td>31-35</td>\n",
       "      <td>Yes</td>\n",
       "      <td>23222.633235</td>\n",
       "    </tr>\n",
       "    <tr>\n",
       "      <th>16</th>\n",
       "      <td>Male</td>\n",
       "      <td>36-40</td>\n",
       "      <td>No</td>\n",
       "      <td>10462.858407</td>\n",
       "    </tr>\n",
       "    <tr>\n",
       "      <th>17</th>\n",
       "      <td>Male</td>\n",
       "      <td>36-40</td>\n",
       "      <td>Yes</td>\n",
       "      <td>15852.750000</td>\n",
       "    </tr>\n",
       "    <tr>\n",
       "      <th>18</th>\n",
       "      <td>Male</td>\n",
       "      <td>41-43</td>\n",
       "      <td>No</td>\n",
       "      <td>10845.279763</td>\n",
       "    </tr>\n",
       "    <tr>\n",
       "      <th>19</th>\n",
       "      <td>Male</td>\n",
       "      <td>41-43</td>\n",
       "      <td>Yes</td>\n",
       "      <td>24477.610947</td>\n",
       "    </tr>\n",
       "  </tbody>\n",
       "</table>\n",
       "</div>"
      ],
      "text/plain": [
       "    gender Agegroup fraudulent  claim_amount\n",
       "0   Female    18-25         No  12776.934436\n",
       "1   Female    18-25        Yes   9114.333051\n",
       "2   Female    26-30         No  12011.836735\n",
       "3   Female    26-30        Yes   5635.000000\n",
       "4   Female    31-35         No  13256.688823\n",
       "5   Female    31-35        Yes  14585.428254\n",
       "6   Female    36-40         No  11643.548962\n",
       "7   Female    36-40        Yes  16934.894659\n",
       "8   Female    41-43         No  10102.380952\n",
       "9   Female    41-43        Yes  19909.950000\n",
       "10    Male    18-25         No  11406.621843\n",
       "11    Male    18-25        Yes   6871.166568\n",
       "12    Male    26-30         No  11997.343596\n",
       "13    Male    26-30        Yes  14593.360947\n",
       "14    Male    31-35         No  14618.981984\n",
       "15    Male    31-35        Yes  23222.633235\n",
       "16    Male    36-40         No  10462.858407\n",
       "17    Male    36-40        Yes  15852.750000\n",
       "18    Male    41-43         No  10845.279763\n",
       "19    Male    41-43        Yes  24477.610947"
      ]
     },
     "execution_count": 144,
     "metadata": {},
     "output_type": "execute_result"
    }
   ],
   "source": [
    "avg_claim_amt=mergedf.groupby(['gender','Agegroup','fraudulent'])['claim_amount'].mean().reset_index()\n",
    "avg_claim_amt"
   ]
  },
  {
   "cell_type": "code",
   "execution_count": 145,
   "id": "a89d59ab-36bb-4323-89b2-f42cc34c321a",
   "metadata": {},
   "outputs": [
    {
     "data": {
      "text/plain": [
       "<seaborn.axisgrid.FacetGrid at 0x1f403e459a0>"
      ]
     },
     "execution_count": 145,
     "metadata": {},
     "output_type": "execute_result"
    },
    {
     "data": {
      "image/png": "[encoded data removed]",
      "text/plain": [
       "<Figure size 1000x500 with 2 Axes>"
      ]
     },
     "metadata": {},
     "output_type": "display_data"
    }
   ],
   "source": [
    "g = sns.FacetGrid(avg_claim_amt, col=\"fraudulent\", height=5, sharey=True)\n",
    "\n",
    "# Use barplot inside FacetGrid\n",
    "g.map_dataframe(sns.barplot, x=\"Agegroup\", y=\"claim_amount\", hue=\"gender\", palette=\"Set2\", errorbar=None)"
   ]
  }
 ],
 "metadata": {
  "kernelspec": {
   "display_name": "Python 3 (ipykernel)",
   "language": "python",
   "name": "python3"
  },
  "language_info": {
   "codemirror_mode": {
    "name": "ipython",
    "version": 3
   },
   "file_extension": ".py",
   "mimetype": "text/x-python",
   "name": "python",
   "nbconvert_exporter": "python",
   "pygments_lexer": "ipython3",
   "version": "3.12.4"
  }
 },
 "nbformat": 4,
 "nbformat_minor": 5
}
